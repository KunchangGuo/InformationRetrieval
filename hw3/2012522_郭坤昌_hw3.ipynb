{
 "cells": [
  {
   "cell_type": "markdown",
   "metadata": {},
   "source": [
    "# 信息检索系统第三次作业 向量空间模型\n",
    "2012522 郭坤昌"
   ]
  },
  {
   "cell_type": "markdown",
   "metadata": {},
   "source": [
    "## 项目说明\n",
    "实现自定义组合域上的查询功能。每篇文档有三个域，title，author和body。对于每篇文档，分别对三个域上的词项计算tf-idf。查询时首先判定在哪些组合域上进行查询，使用向量空间模型计算对应域上查询的相似度，最终将不同域上的相似度进行线性组合得到总的文档相似度。"
   ]
  },
  {
   "cell_type": "markdown",
   "metadata": {},
   "source": [
    "### 数据预处理\n"
   ]
  },
  {
   "cell_type": "code",
   "execution_count": 1,
   "metadata": {},
   "outputs": [],
   "source": [
    "import os\n",
    "import math\n",
    "import numpy as np"
   ]
  },
  {
   "cell_type": "markdown",
   "metadata": {},
   "source": [
    "- 移除标点和数字并转化为小写"
   ]
  },
  {
   "cell_type": "code",
   "execution_count": 2,
   "metadata": {},
   "outputs": [],
   "source": [
    "def remove_punctuation(text):\n",
    "    punctuation = \"0123456789!()-[]{};:'\\\"\\,<>./?@#$%^&*_~\"\n",
    "    for char in text:\n",
    "        if char in punctuation:\n",
    "            text = text.replace(char, \"\")\n",
    "    return text.lower()"
   ]
  },
  {
   "cell_type": "code",
   "execution_count": 3,
   "metadata": {},
   "outputs": [
    {
     "name": "stdout",
     "output_type": "stream",
     "text": [
      "hello im a student i am  years old thats my school nku\n"
     ]
    }
   ],
   "source": [
    "# 测试样例\n",
    "print(remove_punctuation(\"Hello! I'm a student. I am 20 years old. That's my school NKU.\"))"
   ]
  },
  {
   "cell_type": "markdown",
   "metadata": {},
   "source": [
    "- 读取数据，并划分为title，author，body三个域"
   ]
  },
  {
   "cell_type": "code",
   "execution_count": 4,
   "metadata": {},
   "outputs": [],
   "source": [
    "dataset_path = os.path.join('dataset')\n",
    "filenames = os.listdir(dataset_path)\n",
    "title = []\n",
    "author = []\n",
    "body = []\n",
    "for filename in filenames:\n",
    "    title.append(filename.split('.')[0])    # 获取‘.txt’之前的文件名\n",
    "    with open(os.path.join(dataset_path, filename), 'r') as f:\n",
    "        author.append(f.readline().strip('Author: |\\n'))    # 获取作者\n",
    "        body.append(f.read())    # 读取正文"
   ]
  },
  {
   "cell_type": "code",
   "execution_count": 5,
   "metadata": {},
   "outputs": [
    {
     "name": "stdout",
     "output_type": "stream",
     "text": [
      "['A Drinking Song', 'Aedh wishes for the Cloths of Heaven', 'Down by the Salley Gardens', 'Freedom', 'Leave This', 'Tonight I Can Write', 'Walk with Me in Moonlight', 'When you are old', 'Where the Mind is Without Fear']\n",
      "['William Butler Yeats', 'William Butler Yeats', 'William Butler Yeats', 'Rabindranath Tagore', 'Rabindranath Tagore', 'Pablo Neruda', 'Leon Knig', 'William Butler Yeats', 'Rabindranath Tagore']\n",
      "[\"Wine comes in at the mouth\\nAnd love comes in at the eye;\\nThat's all we shall know for truth\\nBefore we grow old and die.\\nI lift the glass to my mouth,\\nI look at you, and I sigh.\", \"Had I the heavens' embroidered cloths,\\nEnwrought with golden and silver light,\\nThe blue and the dim and the dark cloths\\nOf night and light and the half light,\\nI would spread the cloths under your feet:\\nBut I, being poor, have only my dreams;\\nI have spread my dreams under your feet;\\nTread softly because you tread on my dreams.\", 'Down by the salley gardens my love and I did meet;\\nShe passed the salley gardens with little snow-white feet.\\nShe bid me take love easy, as the leaves grow on the tree;\\nBut I, being young and foolish, with her would not agree.\\nIn a field by the river my love and I did stand,\\nAnd on my leaning shoulder she laid her snow-white hand.\\nShe bid me take life easy, as the grass grows on the weirs;\\nBut I was young and foolish, and now am full of tears.', \"Freedom from fear is the freedom\\nI claim for you my motherland!\\nFreedom from the burden of the ages, bending your head,\\nbreaking your back, blinding your eyes to the beckoning call of the future;\\nFreedom from the shackles of slumber wherewith\\nyou fasten yourself in night's stillness,\\nmistrusting the star that speaks of truth's adventurous paths;\\nfreedom from the anarchy of destiny\\nwhole sails are weakly yielded to the blind uncertain winds,\\nand the helm to a hand ever rigid and cold as death.\", 'Leave this chanting and singing and telling of beads!\\nWhom dost thou worship in this lonely dark corner of a temple with doors all shut?\\nOpen thine eyes and see thy God is not before thee!\\nHe is there where the tiller is tilling the hard ground and where the pathmaker is breaking stones.', \"Tonight I can write the saddest lines.\\nWrite, for example, 'the night is starry and the stars are blue and shiver in the distance'.\\nThe night wind revolves in the sky and sings.\\nTonight I can write the saddest lines.\\nI loved her, and sometimes she loved me too.\\nThrough nights like this one I held her in my arms.\\nI kissed her again and again under the endless sky.\\nShe loved me, sometimes I loved her too.\\n\", \"Come, walk with me In moonlight\\nWe'll rejoice the close of day.\\nTalk with me As moonlight sparkles dreams Before our way.\\nDraw closer in the moonlight,\\nFeel warmth within my arms?\\nDrink deep the cup of moonlight;\\nDrink deep the magic charms.\", 'When you are old and grey and full of sleep,\\nAnd nodding by the fire, take down this book,\\nAnd slowly read, and dream of the soft look,\\nYour eyes had once, and of their shadows deep;\\nHow many loved your moments of glad grace,\\nAnd loved your beauty with love false or true,\\nBut one man loved the pilgrim soul in you,\\nAnd loved the sorrows of your changing face;', 'Where the mind is without fear and the head is held high;\\nWhere knowledge is free;\\nWhere the world has not been broken up into fragments by narrow domestic walls;\\nWhere words come out from the depth of truth;\\nWhere tireless striving stretches its arms towards perfection:\\nWhere the clear stream of reason has not lost its way into the dreary desert sand of dead habit;']\n"
     ]
    }
   ],
   "source": [
    "# 测试\n",
    "print(title)\n",
    "print(author)\n",
    "print(body)"
   ]
  },
  {
   "cell_type": "markdown",
   "metadata": {},
   "source": [
    "- 统计得到tf和df"
   ]
  },
  {
   "cell_type": "code",
   "execution_count": 6,
   "metadata": {},
   "outputs": [],
   "source": [
    "def get_tf_df_table(text_list, doc_num):\n",
    "    tf_table = {}\n",
    "    df_table = {}\n",
    "    for i in range(doc_num):\n",
    "        tf_table[i] = {}\n",
    "        tokens = remove_punctuation(text_list[i]).split()\n",
    "        for token in tokens:    # 对于文章上的某个域，如果存在某个单词，则tf项加一，否则置一\n",
    "            if token in tf_table[i]:\n",
    "                tf_table[i][token] += 1\n",
    "            else:\n",
    "                tf_table[i][token] = 1\n",
    "        unique_tokens = set(tokens)    # 对于文章上的某个域，如果存在某个单词，则df项加一，否则置一\n",
    "        for token in unique_tokens:\n",
    "            if token in df_table:\n",
    "                df_table[token] += 1\n",
    "            else:\n",
    "                df_table[token] = 1\n",
    "    return tf_table, df_table"
   ]
  },
  {
   "cell_type": "code",
   "execution_count": 7,
   "metadata": {},
   "outputs": [],
   "source": [
    "title_tf_table, title_df_table = get_tf_df_table(title, len(filenames))\n",
    "author_tf_table, author_df_table = get_tf_df_table(author, len(filenames))\n",
    "body_tf_table, body_df_table = get_tf_df_table(body, len(filenames))"
   ]
  },
  {
   "cell_type": "code",
   "execution_count": 8,
   "metadata": {},
   "outputs": [
    {
     "name": "stdout",
     "output_type": "stream",
     "text": [
      "{0: {'a': 1, 'drinking': 1, 'song': 1}, 1: {'aedh': 1, 'wishes': 1, 'for': 1, 'the': 1, 'cloths': 1, 'of': 1, 'heaven': 1}, 2: {'down': 1, 'by': 1, 'the': 1, 'salley': 1, 'gardens': 1}, 3: {'freedom': 1}, 4: {'leave': 1, 'this': 1}, 5: {'tonight': 1, 'i': 1, 'can': 1, 'write': 1}, 6: {'walk': 1, 'with': 1, 'me': 1, 'in': 1, 'moonlight': 1}, 7: {'when': 1, 'you': 1, 'are': 1, 'old': 1}, 8: {'where': 1, 'the': 1, 'mind': 1, 'is': 1, 'without': 1, 'fear': 1}}\n",
      "{'song': 1, 'drinking': 1, 'a': 1, 'the': 3, 'heaven': 1, 'wishes': 1, 'for': 1, 'aedh': 1, 'of': 1, 'cloths': 1, 'by': 1, 'down': 1, 'gardens': 1, 'salley': 1, 'freedom': 1, 'leave': 1, 'this': 1, 'can': 1, 'write': 1, 'tonight': 1, 'i': 1, 'with': 1, 'walk': 1, 'me': 1, 'moonlight': 1, 'in': 1, 'you': 1, 'when': 1, 'are': 1, 'old': 1, 'without': 1, 'is': 1, 'fear': 1, 'where': 1, 'mind': 1}\n"
     ]
    }
   ],
   "source": [
    "# 测试\n",
    "print(title_tf_table)\n",
    "print(title_df_table)"
   ]
  },
  {
   "cell_type": "markdown",
   "metadata": {},
   "source": [
    "### 向量空间模型"
   ]
  },
  {
   "cell_type": "markdown",
   "metadata": {},
   "source": [
    "- 计算tf-idf"
   ]
  },
  {
   "cell_type": "code",
   "execution_count": 9,
   "metadata": {},
   "outputs": [],
   "source": [
    "def tf_idf(tf_table, df_table, doc_num):\n",
    "    tf_idf_table = {}\n",
    "    for i in range(doc_num):\n",
    "        tf_idf_table[i] = {}\n",
    "        for token in tf_table[i]:\n",
    "            tf_idf_table[i][token] = tf_table[i][token] * math.log(doc_num / df_table[token])\n",
    "    return tf_idf_table"
   ]
  },
  {
   "cell_type": "code",
   "execution_count": 10,
   "metadata": {},
   "outputs": [],
   "source": [
    "title_tf_idf_table = tf_idf(title_tf_table, title_df_table, len(filenames))\n",
    "author_tf_idf_table = tf_idf(author_tf_table, author_df_table, len(filenames))\n",
    "body_tf_idf_table = tf_idf(body_tf_table, body_df_table, len(filenames))"
   ]
  },
  {
   "cell_type": "code",
   "execution_count": 11,
   "metadata": {},
   "outputs": [
    {
     "data": {
      "text/plain": [
       "{0: {'wine': 2.1972245773362196,\n",
       "  'comes': 4.394449154672439,\n",
       "  'in': 0.5026288565618123,\n",
       "  'at': 6.591673732008658,\n",
       "  'the': 0.0,\n",
       "  'mouth': 4.394449154672439,\n",
       "  'and': 0.35334910696915034,\n",
       "  'love': 1.0986122886681098,\n",
       "  'eye': 2.1972245773362196,\n",
       "  'thats': 2.1972245773362196,\n",
       "  'all': 1.5040773967762742,\n",
       "  'we': 4.394449154672439,\n",
       "  'shall': 2.1972245773362196,\n",
       "  'know': 2.1972245773362196,\n",
       "  'for': 1.0986122886681098,\n",
       "  'truth': 1.5040773967762742,\n",
       "  'before': 1.0986122886681098,\n",
       "  'grow': 1.5040773967762742,\n",
       "  'old': 1.5040773967762742,\n",
       "  'die': 2.1972245773362196,\n",
       "  'i': 1.7633599947063572,\n",
       "  'lift': 2.1972245773362196,\n",
       "  'glass': 2.1972245773362196,\n",
       "  'to': 1.5040773967762742,\n",
       "  'my': 0.4054651081081644,\n",
       "  'look': 1.5040773967762742,\n",
       "  'you': 0.8109302162163288,\n",
       "  'sigh': 2.1972245773362196},\n",
       " 1: {'had': 1.5040773967762742,\n",
       "  'i': 2.3511466596084762,\n",
       "  'the': 0.0,\n",
       "  'heavens': 2.1972245773362196,\n",
       "  'embroidered': 2.1972245773362196,\n",
       "  'cloths': 6.591673732008658,\n",
       "  'enwrought': 2.1972245773362196,\n",
       "  'with': 0.5877866649021191,\n",
       "  'golden': 2.1972245773362196,\n",
       "  'and': 0.5889151782819173,\n",
       "  'silver': 2.1972245773362196,\n",
       "  'light': 6.591673732008658,\n",
       "  'blue': 1.5040773967762742,\n",
       "  'dim': 2.1972245773362196,\n",
       "  'dark': 1.5040773967762742,\n",
       "  'of': 0.25131442828090617,\n",
       "  'night': 1.5040773967762742,\n",
       "  'half': 2.1972245773362196,\n",
       "  'would': 1.5040773967762742,\n",
       "  'spread': 4.394449154672439,\n",
       "  'under': 3.0081547935525483,\n",
       "  'your': 2.1972245773362196,\n",
       "  'feet': 3.0081547935525483,\n",
       "  'but': 1.0986122886681098,\n",
       "  'being': 1.5040773967762742,\n",
       "  'poor': 2.1972245773362196,\n",
       "  'have': 4.394449154672439,\n",
       "  'only': 2.1972245773362196,\n",
       "  'my': 1.2163953243244932,\n",
       "  'dreams': 4.512232190328822,\n",
       "  'tread': 4.394449154672439,\n",
       "  'softly': 2.1972245773362196,\n",
       "  'because': 2.1972245773362196,\n",
       "  'you': 0.8109302162163288,\n",
       "  'on': 1.5040773967762742},\n",
       " 2: {'down': 1.5040773967762742,\n",
       "  'by': 2.1972245773362196,\n",
       "  'the': 0.0,\n",
       "  'salley': 4.394449154672439,\n",
       "  'gardens': 4.394449154672439,\n",
       "  'my': 1.2163953243244932,\n",
       "  'love': 3.295836866004329,\n",
       "  'and': 0.7066982139383007,\n",
       "  'i': 2.3511466596084762,\n",
       "  'did': 4.394449154672439,\n",
       "  'meet': 2.1972245773362196,\n",
       "  'she': 6.016309587105097,\n",
       "  'passed': 2.1972245773362196,\n",
       "  'with': 1.1755733298042381,\n",
       "  'little': 2.1972245773362196,\n",
       "  'snowwhite': 4.394449154672439,\n",
       "  'feet': 1.5040773967762742,\n",
       "  'bid': 4.394449154672439,\n",
       "  'me': 2.1972245773362196,\n",
       "  'take': 3.0081547935525483,\n",
       "  'easy': 4.394449154672439,\n",
       "  'as': 2.1972245773362196,\n",
       "  'leaves': 2.1972245773362196,\n",
       "  'grow': 1.5040773967762742,\n",
       "  'on': 4.512232190328822,\n",
       "  'tree': 2.1972245773362196,\n",
       "  'but': 2.1972245773362196,\n",
       "  'being': 1.5040773967762742,\n",
       "  'young': 4.394449154672439,\n",
       "  'foolish': 4.394449154672439,\n",
       "  'her': 3.0081547935525483,\n",
       "  'would': 1.5040773967762742,\n",
       "  'not': 1.0986122886681098,\n",
       "  'agree': 2.1972245773362196,\n",
       "  'in': 0.25131442828090617,\n",
       "  'a': 1.0986122886681098,\n",
       "  'field': 2.1972245773362196,\n",
       "  'river': 2.1972245773362196,\n",
       "  'stand': 2.1972245773362196,\n",
       "  'leaning': 2.1972245773362196,\n",
       "  'shoulder': 2.1972245773362196,\n",
       "  'laid': 2.1972245773362196,\n",
       "  'hand': 1.5040773967762742,\n",
       "  'life': 2.1972245773362196,\n",
       "  'grass': 2.1972245773362196,\n",
       "  'grows': 2.1972245773362196,\n",
       "  'weirs': 2.1972245773362196,\n",
       "  'was': 2.1972245773362196,\n",
       "  'now': 2.1972245773362196,\n",
       "  'am': 2.1972245773362196,\n",
       "  'full': 1.5040773967762742,\n",
       "  'of': 0.25131442828090617,\n",
       "  'tears': 2.1972245773362196},\n",
       " 3: {'freedom': 10.986122886681098,\n",
       "  'from': 6.016309587105097,\n",
       "  'fear': 1.5040773967762742,\n",
       "  'is': 0.8109302162163288,\n",
       "  'the': 0.0,\n",
       "  'i': 0.5877866649021191,\n",
       "  'claim': 2.1972245773362196,\n",
       "  'for': 1.0986122886681098,\n",
       "  'you': 1.6218604324326575,\n",
       "  'my': 0.4054651081081644,\n",
       "  'motherland': 2.1972245773362196,\n",
       "  'burden': 2.1972245773362196,\n",
       "  'of': 1.2565721414045308,\n",
       "  'ages': 2.1972245773362196,\n",
       "  'bending': 2.1972245773362196,\n",
       "  'your': 3.295836866004329,\n",
       "  'head': 1.5040773967762742,\n",
       "  'breaking': 1.5040773967762742,\n",
       "  'back': 2.1972245773362196,\n",
       "  'blinding': 2.1972245773362196,\n",
       "  'eyes': 1.0986122886681098,\n",
       "  'to': 4.512232190328822,\n",
       "  'beckoning': 2.1972245773362196,\n",
       "  'call': 2.1972245773362196,\n",
       "  'future': 2.1972245773362196,\n",
       "  'shackles': 2.1972245773362196,\n",
       "  'slumber': 2.1972245773362196,\n",
       "  'wherewith': 2.1972245773362196,\n",
       "  'fasten': 2.1972245773362196,\n",
       "  'yourself': 2.1972245773362196,\n",
       "  'in': 0.25131442828090617,\n",
       "  'nights': 1.5040773967762742,\n",
       "  'stillness': 2.1972245773362196,\n",
       "  'mistrusting': 2.1972245773362196,\n",
       "  'star': 2.1972245773362196,\n",
       "  'that': 2.1972245773362196,\n",
       "  'speaks': 2.1972245773362196,\n",
       "  'truths': 2.1972245773362196,\n",
       "  'adventurous': 2.1972245773362196,\n",
       "  'paths': 2.1972245773362196,\n",
       "  'anarchy': 2.1972245773362196,\n",
       "  'destiny': 2.1972245773362196,\n",
       "  'whole': 2.1972245773362196,\n",
       "  'sails': 2.1972245773362196,\n",
       "  'are': 1.0986122886681098,\n",
       "  'weakly': 2.1972245773362196,\n",
       "  'yielded': 2.1972245773362196,\n",
       "  'blind': 2.1972245773362196,\n",
       "  'uncertain': 2.1972245773362196,\n",
       "  'winds': 2.1972245773362196,\n",
       "  'and': 0.2355660713127669,\n",
       "  'helm': 2.1972245773362196,\n",
       "  'a': 1.0986122886681098,\n",
       "  'hand': 1.5040773967762742,\n",
       "  'ever': 2.1972245773362196,\n",
       "  'rigid': 2.1972245773362196,\n",
       "  'cold': 2.1972245773362196,\n",
       "  'as': 1.0986122886681098,\n",
       "  'death': 2.1972245773362196},\n",
       " 4: {'leave': 2.1972245773362196,\n",
       "  'this': 2.1972245773362196,\n",
       "  'chanting': 2.1972245773362196,\n",
       "  'and': 0.4711321426255338,\n",
       "  'singing': 2.1972245773362196,\n",
       "  'telling': 2.1972245773362196,\n",
       "  'of': 0.5026288565618123,\n",
       "  'beads': 2.1972245773362196,\n",
       "  'whom': 2.1972245773362196,\n",
       "  'dost': 2.1972245773362196,\n",
       "  'thou': 2.1972245773362196,\n",
       "  'worship': 2.1972245773362196,\n",
       "  'in': 0.25131442828090617,\n",
       "  'lonely': 2.1972245773362196,\n",
       "  'dark': 1.5040773967762742,\n",
       "  'corner': 2.1972245773362196,\n",
       "  'a': 1.0986122886681098,\n",
       "  'temple': 2.1972245773362196,\n",
       "  'with': 0.5877866649021191,\n",
       "  'doors': 2.1972245773362196,\n",
       "  'all': 1.5040773967762742,\n",
       "  'shut': 2.1972245773362196,\n",
       "  'open': 2.1972245773362196,\n",
       "  'thine': 2.1972245773362196,\n",
       "  'eyes': 1.0986122886681098,\n",
       "  'see': 2.1972245773362196,\n",
       "  'thy': 2.1972245773362196,\n",
       "  'god': 2.1972245773362196,\n",
       "  'is': 3.243720864865315,\n",
       "  'not': 1.0986122886681098,\n",
       "  'before': 1.0986122886681098,\n",
       "  'thee': 2.1972245773362196,\n",
       "  'he': 2.1972245773362196,\n",
       "  'there': 2.1972245773362196,\n",
       "  'where': 3.0081547935525483,\n",
       "  'the': 0.0,\n",
       "  'tiller': 2.1972245773362196,\n",
       "  'tilling': 2.1972245773362196,\n",
       "  'hard': 2.1972245773362196,\n",
       "  'ground': 2.1972245773362196,\n",
       "  'pathmaker': 2.1972245773362196,\n",
       "  'breaking': 1.5040773967762742,\n",
       "  'stones': 2.1972245773362196},\n",
       " 5: {'tonight': 4.394449154672439,\n",
       "  'i': 3.5267199894127144,\n",
       "  'can': 4.394449154672439,\n",
       "  'write': 6.591673732008658,\n",
       "  'the': 0.0,\n",
       "  'saddest': 4.394449154672439,\n",
       "  'lines': 4.394449154672439,\n",
       "  'for': 1.0986122886681098,\n",
       "  'example': 2.1972245773362196,\n",
       "  'night': 3.0081547935525483,\n",
       "  'is': 0.8109302162163288,\n",
       "  'starry': 2.1972245773362196,\n",
       "  'and': 0.5889151782819173,\n",
       "  'stars': 2.1972245773362196,\n",
       "  'are': 1.0986122886681098,\n",
       "  'blue': 1.5040773967762742,\n",
       "  'shiver': 2.1972245773362196,\n",
       "  'in': 0.7539432848427186,\n",
       "  'distance': 2.1972245773362196,\n",
       "  'wind': 2.1972245773362196,\n",
       "  'revolves': 2.1972245773362196,\n",
       "  'sky': 4.394449154672439,\n",
       "  'sings': 2.1972245773362196,\n",
       "  'loved': 6.016309587105097,\n",
       "  'her': 6.016309587105097,\n",
       "  'sometimes': 4.394449154672439,\n",
       "  'she': 3.0081547935525483,\n",
       "  'me': 2.1972245773362196,\n",
       "  'too': 4.394449154672439,\n",
       "  'through': 2.1972245773362196,\n",
       "  'nights': 1.5040773967762742,\n",
       "  'like': 2.1972245773362196,\n",
       "  'this': 1.0986122886681098,\n",
       "  'one': 1.5040773967762742,\n",
       "  'held': 1.5040773967762742,\n",
       "  'my': 0.4054651081081644,\n",
       "  'arms': 1.0986122886681098,\n",
       "  'kissed': 2.1972245773362196,\n",
       "  'again': 4.394449154672439,\n",
       "  'under': 1.5040773967762742,\n",
       "  'endless': 2.1972245773362196},\n",
       " 6: {'come': 1.5040773967762742,\n",
       "  'walk': 2.1972245773362196,\n",
       "  'with': 1.1755733298042381,\n",
       "  'me': 2.1972245773362196,\n",
       "  'in': 0.5026288565618123,\n",
       "  'moonlight': 8.788898309344878,\n",
       "  'well': 2.1972245773362196,\n",
       "  'rejoice': 2.1972245773362196,\n",
       "  'the': 0.0,\n",
       "  'close': 2.1972245773362196,\n",
       "  'of': 0.5026288565618123,\n",
       "  'day': 2.1972245773362196,\n",
       "  'talk': 2.1972245773362196,\n",
       "  'as': 1.0986122886681098,\n",
       "  'sparkles': 2.1972245773362196,\n",
       "  'dreams': 1.5040773967762742,\n",
       "  'before': 1.0986122886681098,\n",
       "  'our': 2.1972245773362196,\n",
       "  'way': 1.5040773967762742,\n",
       "  'draw': 2.1972245773362196,\n",
       "  'closer': 2.1972245773362196,\n",
       "  'feel': 2.1972245773362196,\n",
       "  'warmth': 2.1972245773362196,\n",
       "  'within': 2.1972245773362196,\n",
       "  'my': 0.4054651081081644,\n",
       "  'arms': 1.0986122886681098,\n",
       "  'drink': 4.394449154672439,\n",
       "  'deep': 3.0081547935525483,\n",
       "  'cup': 2.1972245773362196,\n",
       "  'magic': 2.1972245773362196,\n",
       "  'charms': 2.1972245773362196},\n",
       " 7: {'when': 2.1972245773362196,\n",
       "  'you': 1.6218604324326575,\n",
       "  'are': 1.0986122886681098,\n",
       "  'old': 1.5040773967762742,\n",
       "  'and': 0.9422642852510676,\n",
       "  'grey': 2.1972245773362196,\n",
       "  'full': 1.5040773967762742,\n",
       "  'of': 1.2565721414045308,\n",
       "  'sleep': 2.1972245773362196,\n",
       "  'nodding': 2.1972245773362196,\n",
       "  'by': 1.0986122886681098,\n",
       "  'the': 0.0,\n",
       "  'fire': 2.1972245773362196,\n",
       "  'take': 1.5040773967762742,\n",
       "  'down': 1.5040773967762742,\n",
       "  'this': 1.0986122886681098,\n",
       "  'book': 2.1972245773362196,\n",
       "  'slowly': 2.1972245773362196,\n",
       "  'read': 2.1972245773362196,\n",
       "  'dream': 2.1972245773362196,\n",
       "  'soft': 2.1972245773362196,\n",
       "  'look': 1.5040773967762742,\n",
       "  'your': 4.394449154672439,\n",
       "  'eyes': 1.0986122886681098,\n",
       "  'had': 1.5040773967762742,\n",
       "  'once': 2.1972245773362196,\n",
       "  'their': 2.1972245773362196,\n",
       "  'shadows': 2.1972245773362196,\n",
       "  'deep': 1.5040773967762742,\n",
       "  'how': 2.1972245773362196,\n",
       "  'many': 2.1972245773362196,\n",
       "  'loved': 6.016309587105097,\n",
       "  'moments': 2.1972245773362196,\n",
       "  'glad': 2.1972245773362196,\n",
       "  'grace': 2.1972245773362196,\n",
       "  'beauty': 2.1972245773362196,\n",
       "  'with': 0.5877866649021191,\n",
       "  'love': 1.0986122886681098,\n",
       "  'false': 2.1972245773362196,\n",
       "  'or': 2.1972245773362196,\n",
       "  'true': 2.1972245773362196,\n",
       "  'but': 1.0986122886681098,\n",
       "  'one': 1.5040773967762742,\n",
       "  'man': 2.1972245773362196,\n",
       "  'pilgrim': 2.1972245773362196,\n",
       "  'soul': 2.1972245773362196,\n",
       "  'in': 0.25131442828090617,\n",
       "  'sorrows': 2.1972245773362196,\n",
       "  'changing': 2.1972245773362196,\n",
       "  'face': 2.1972245773362196},\n",
       " 8: {'where': 9.024464380657644,\n",
       "  'the': 0.0,\n",
       "  'mind': 2.1972245773362196,\n",
       "  'is': 2.4327906486489863,\n",
       "  'without': 2.1972245773362196,\n",
       "  'fear': 1.5040773967762742,\n",
       "  'and': 0.11778303565638346,\n",
       "  'head': 1.5040773967762742,\n",
       "  'held': 1.5040773967762742,\n",
       "  'high': 2.1972245773362196,\n",
       "  'knowledge': 2.1972245773362196,\n",
       "  'free': 2.1972245773362196,\n",
       "  'world': 2.1972245773362196,\n",
       "  'has': 4.394449154672439,\n",
       "  'not': 2.1972245773362196,\n",
       "  'been': 2.1972245773362196,\n",
       "  'broken': 2.1972245773362196,\n",
       "  'up': 2.1972245773362196,\n",
       "  'into': 4.394449154672439,\n",
       "  'fragments': 2.1972245773362196,\n",
       "  'by': 1.0986122886681098,\n",
       "  'narrow': 2.1972245773362196,\n",
       "  'domestic': 2.1972245773362196,\n",
       "  'walls': 2.1972245773362196,\n",
       "  'words': 2.1972245773362196,\n",
       "  'come': 1.5040773967762742,\n",
       "  'out': 2.1972245773362196,\n",
       "  'from': 1.5040773967762742,\n",
       "  'depth': 2.1972245773362196,\n",
       "  'of': 0.7539432848427186,\n",
       "  'truth': 1.5040773967762742,\n",
       "  'tireless': 2.1972245773362196,\n",
       "  'striving': 2.1972245773362196,\n",
       "  'stretches': 2.1972245773362196,\n",
       "  'its': 4.394449154672439,\n",
       "  'arms': 1.0986122886681098,\n",
       "  'towards': 2.1972245773362196,\n",
       "  'perfection': 2.1972245773362196,\n",
       "  'clear': 2.1972245773362196,\n",
       "  'stream': 2.1972245773362196,\n",
       "  'reason': 2.1972245773362196,\n",
       "  'lost': 2.1972245773362196,\n",
       "  'way': 1.5040773967762742,\n",
       "  'dreary': 2.1972245773362196,\n",
       "  'desert': 2.1972245773362196,\n",
       "  'sand': 2.1972245773362196,\n",
       "  'dead': 2.1972245773362196,\n",
       "  'habit': 2.1972245773362196}}"
      ]
     },
     "execution_count": 11,
     "metadata": {},
     "output_type": "execute_result"
    }
   ],
   "source": [
    "# 测试\n",
    "body_tf_idf_table"
   ]
  },
  {
   "cell_type": "markdown",
   "metadata": {},
   "source": [
    "- 向量归一化，避免查询时重复计算\n",
    "> 直接应用在文档向量的tf-idf记录表上"
   ]
  },
  {
   "cell_type": "code",
   "execution_count": 12,
   "metadata": {},
   "outputs": [],
   "source": [
    "def norm(tf_idf_table, doc_num):\n",
    "    for i in range(doc_num):\n",
    "        length = np.linalg.norm(list(tf_idf_table[i].values()))\n",
    "        normed = list(tf_idf_table[i].values()) / length\n",
    "        tf_idf_table[i] = dict(zip(tf_idf_table[i].keys(), normed))\n",
    "            "
   ]
  },
  {
   "cell_type": "code",
   "execution_count": 13,
   "metadata": {},
   "outputs": [],
   "source": [
    "norm(title_tf_idf_table, len(filenames))\n",
    "norm(author_tf_idf_table, len(filenames))\n",
    "norm(body_tf_idf_table, len(filenames))"
   ]
  },
  {
   "cell_type": "code",
   "execution_count": 14,
   "metadata": {},
   "outputs": [
    {
     "name": "stdout",
     "output_type": "stream",
     "text": [
      "{0: {'william': 0.5773502691896258, 'butler': 0.5773502691896258, 'yeats': 0.5773502691896258}, 1: {'william': 0.5773502691896258, 'butler': 0.5773502691896258, 'yeats': 0.5773502691896258}, 2: {'william': 0.5773502691896258, 'butler': 0.5773502691896258, 'yeats': 0.5773502691896258}, 3: {'rabindranath': 0.7071067811865476, 'tagore': 0.7071067811865476}, 4: {'rabindranath': 0.7071067811865476, 'tagore': 0.7071067811865476}, 5: {'pablo': 0.7071067811865476, 'neruda': 0.7071067811865476}, 6: {'leon': 0.7071067811865476, 'knig': 0.7071067811865476}, 7: {'william': 0.5773502691896258, 'butler': 0.5773502691896258, 'yeats': 0.5773502691896258}, 8: {'rabindranath': 0.7071067811865476, 'tagore': 0.7071067811865476}}\n"
     ]
    }
   ],
   "source": [
    "# 测试\n",
    "print(author_tf_idf_table)"
   ]
  },
  {
   "cell_type": "markdown",
   "metadata": {},
   "source": [
    "- 向量空间模型计算相似度\\\n",
    "文档向量已经经过了归一化，此时只需计算查询向量和归一化文档向量的点积即可"
   ]
  },
  {
   "cell_type": "code",
   "execution_count": 15,
   "metadata": {},
   "outputs": [],
   "source": [
    "def sim(tf_idf_table, df_table, query, doc_num):\n",
    "    query_tokens = remove_punctuation(query).split()    # 获取查询单词列表\n",
    "    query_tf = {}   # 计算查询的tf\n",
    "    for token in query_tokens:\n",
    "        if token in query_tf:\n",
    "            query_tf[token] += 1\n",
    "        else:\n",
    "            query_tf[token] = 1\n",
    "    sim_list = []   # 对所有文档进行相似度计算得到相似度列表\n",
    "    for i in range(doc_num):\n",
    "        sim_list.append(0)\n",
    "        for token in query_tokens:\n",
    "            if token in tf_idf_table[i]:    # 如果查询单词在文档中出现过，则计算相似度\n",
    "                query_token_tf_idf = query_tf[token] * math.log(doc_num) / df_table[token]   # 这里仍使用文档集合的df，认为文档足够多，使得df不会因为查询而变化较大\n",
    "                sim_list[i] += query_token_tf_idf * tf_idf_table[i][token]\n",
    "    return sim_list"
   ]
  },
  {
   "cell_type": "markdown",
   "metadata": {},
   "source": [
    "> 下面的句子摘自‘A Drinking Song’，对应下标为4，得分最高，计算正确"
   ]
  },
  {
   "cell_type": "code",
   "execution_count": 16,
   "metadata": {},
   "outputs": [
    {
     "name": "stdout",
     "output_type": "stream",
     "text": [
      "[2.1902784903035246, 0, 0, 0.040765923471441486, 0.12596684694753174, 0.04119528753537085, 0, 0, 0.09328191349114537]\n",
      "A Drinking Song.txt\n"
     ]
    }
   ],
   "source": [
    "# 测试\n",
    "test_query = \"That's all we shall know for truth\"\n",
    "sim_list = sim(body_tf_idf_table, body_df_table, test_query, len(filenames))\n",
    "print(sim_list)\n",
    "print(filenames[np.argmax(sim_list)])"
   ]
  },
  {
   "cell_type": "markdown",
   "metadata": {},
   "source": [
    "- 对查询结果进行排序并展示，得分为0则不予展示"
   ]
  },
  {
   "cell_type": "code",
   "execution_count": 17,
   "metadata": {},
   "outputs": [],
   "source": [
    "def show_result(sim_list, titles):\n",
    "    result_dict = dict(zip(sim_list, titles))\n",
    "    sorted_dict = sorted(result_dict.items(), key=lambda x: x[0], reverse=True)\n",
    "    rank = 1\n",
    "    for item in sorted_dict:\n",
    "        if item[0]!= 0:\n",
    "            print(\"{rank}\\tSim: {sim:.2f}\\tDoc: < {doc} >\".format(rank = rank, sim = item[0], doc = item[1]))\n",
    "            rank += 1\n",
    "    "
   ]
  },
  {
   "cell_type": "code",
   "execution_count": 18,
   "metadata": {},
   "outputs": [
    {
     "name": "stdout",
     "output_type": "stream",
     "text": [
      "1\tSim: 2.19\tDoc: < A Drinking Song >\n",
      "2\tSim: 0.13\tDoc: < Leave This >\n",
      "3\tSim: 0.09\tDoc: < Where the Mind is Without Fear >\n",
      "4\tSim: 0.04\tDoc: < Tonight I Can Write >\n",
      "5\tSim: 0.04\tDoc: < Freedom >\n"
     ]
    }
   ],
   "source": [
    "# 测试\n",
    "show_result(sim_list, title)"
   ]
  },
  {
   "cell_type": "markdown",
   "metadata": {},
   "source": [
    "## 组合域查询的实现"
   ]
  },
  {
   "cell_type": "markdown",
   "metadata": {},
   "source": [
    "- 设置各域的权重，即应用组合查询\n",
    "- 若对应域没有输入，则对应域上的相似度加权一定为0，即不在对应域上查找"
   ]
  },
  {
   "cell_type": "code",
   "execution_count": 19,
   "metadata": {},
   "outputs": [],
   "source": [
    "def search(query, titles, doc_num):\n",
    "    # 权重\n",
    "    title_weight = 0.2\n",
    "    author_weight = 0.2\n",
    "    body_weight = 0.6\n",
    "    # 计算相似度\n",
    "    title_sim_list = sim(title_tf_idf_table, title_df_table, query['title'], doc_num)\n",
    "    author_sim_list = sim(author_tf_idf_table, author_df_table, query['author'], doc_num)\n",
    "    body_sim_list = sim(body_tf_idf_table, body_df_table, query['body'], doc_num)\n",
    "    # 线性组合相似度\n",
    "    sim_list = [title_sim_list[i]*title_weight + author_sim_list[i]*author_weight + body_sim_list[i]*body_weight for i in range(doc_num)]\n",
    "    show_result(sim_list, titles)"
   ]
  },
  {
   "cell_type": "markdown",
   "metadata": {},
   "source": [
    "- 以下为了方便，提供查询的格式化输入，可根据查询需要修改"
   ]
  },
  {
   "cell_type": "code",
   "execution_count": 24,
   "metadata": {},
   "outputs": [],
   "source": [
    "query = {   \n",
    "            \"title\":\"Drinking\", \n",
    "            \"author\":\"Rabindranath\", \n",
    "            \"body\":\"Wine burden\"\n",
    "        }"
   ]
  },
  {
   "cell_type": "code",
   "execution_count": 25,
   "metadata": {},
   "outputs": [
    {
     "name": "stdout",
     "output_type": "stream",
     "text": [
      "1\tSim: 0.48\tDoc: < A Drinking Song >\n"
     ]
    }
   ],
   "source": [
    "search(query, title, len(filenames))"
   ]
  },
  {
   "cell_type": "code",
   "execution_count": null,
   "metadata": {},
   "outputs": [],
   "source": []
  }
 ],
 "metadata": {
  "kernelspec": {
   "display_name": "Python 3.7.13 ('ir')",
   "language": "python",
   "name": "python3"
  },
  "language_info": {
   "codemirror_mode": {
    "name": "ipython",
    "version": 3
   },
   "file_extension": ".py",
   "mimetype": "text/x-python",
   "name": "python",
   "nbconvert_exporter": "python",
   "pygments_lexer": "ipython3",
   "version": "3.7.13"
  },
  "orig_nbformat": 4,
  "vscode": {
   "interpreter": {
    "hash": "8cb6e4d0ef039475161cc44fb4c4a0211d2871831cef920b7e82dc401f355e74"
   }
  }
 },
 "nbformat": 4,
 "nbformat_minor": 2
}
